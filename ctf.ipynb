{
 "cells": [
  {
   "cell_type": "code",
   "execution_count": null,
   "id": "b7a4d69f",
   "metadata": {},
   "outputs": [
    {
     "name": "stdout",
     "output_type": "stream",
     "text": [
      "UMDCTF{r3v3R$E-i$_Th3_#B3ST#_4nT!-M@lW@r3_t3hE;d\u001a U"
     ]
    }
   ],
   "source": [
    "# user string -> DAT_0040209c\n",
    "# string to xor -> DAT_00402034 (a)\n",
    "# result -> DAT_0040211c\n",
    "# check to -> DAT_00402000 (b)\n",
    "\n",
    "\"\"\"\n",
    "756f 6465 6171 6f75 7576 6945 6070 7f65  uodeaqouuviE`p.e\n",
    "00000010: 5477 6374 6842 5354 4503 3d7f 3158 7546  TwcthBSTE.=.1XuF\n",
    "00000020: 7544 6078 6a74 514f 1c5f 7679            uD`xjtQO._vy\n",
    "\"\"\"\n",
    "\n",
    "a = [\n",
    "    0x75, 0x6f, 0x64, 0x65, 0x61, 0x71, 0x6f, 0x75, 0x75, 0x76, 0x69, 0x45, 0x60, 0x70, 0x7f, 0x65, \n",
    "    0x54, 0x77, 0x63, 0x74, 0x68, 0x42, 0x53, 0x54, 0x45, 0x03, 0x3d, 0x7f, 0x31, 0x58, 0x75, 0x46, \n",
    "    0x75, 0x44, 0x60, 0x78, 0x6a, 0x74, 0x51, 0x4f, 0x1c, 0x5f, 0x76, 0x79, 0, 0, 0, 0, 0, 0, 0, 0,  0 , 0, 0, 0, 0, 0, 0, 0, 0, 0, 0 \n",
    "]\n",
    "\n",
    "\"\"\"\n",
    "00000000: 2022 2026 3537 1407 4600 5a17 4435 520c   \" &57..F.Z.D5R.\n",
    "00000010: 7028 371c 5b1d 7016 7650 695c 6e6c 1b12  p(7.[.p.vPi\\nl..\n",
    "00000020: 5469 2d38 0623 113d 2f00 024a 6845 3b64  Ti-8.#.=/..JhE;d\n",
    "00000030: 1a20 55                                  . U\n",
    "\"\"\"\n",
    "\n",
    "\n",
    "b = [\n",
    "    0x20, 0x22, 0x20, 0x26, 0x35, 0x37, 0x14, 0x07, 0x46, 0x00, 0x5a, 0x17, 0x44, 0x35, 0x52, 0x0c, \n",
    "    0x70, 0x28, 0x37, 0x1c, 0x5b, 0x1d, 0x70, 0x16, 0x76, 0x50, 0x69, 0x5c, 0x6e, 0x6c, 0x1b, 0x12, \n",
    "    0x54, 0x69, 0x2d, 0x38, 0x06, 0x23, 0x11, 0x3d, 0x2f, 0x00, 0x02, 0x4a, 0x68, 0x45, 0x3b, 0x64, \n",
    "    0x1a, 0x20, 0x55\n",
    "]\n",
    "\n",
    "for i in range(len(b)):\n",
    "    print(chr(a[i] ^ b[i]), end=\"\")"
   ]
  },
  {
   "cell_type": "code",
   "execution_count": 13,
   "id": "8d169d99",
   "metadata": {},
   "outputs": [
    {
     "name": "stdout",
     "output_type": "stream",
     "text": [
      "Flag found with seed 1745447710: UMDCTF{pseudo_entropy_hidden_seed}\n"
     ]
    }
   ],
   "source": [
    "import random\n",
    "import time\n",
    "\n",
    "# Define the target flag pattern\n",
    "target_flag_start = \"UMDCTF{\"\n",
    "\n",
    "# Read the ciphertext\n",
    "with open(\"/home/taha/Downloads/secret.bin\", \"rb\") as f:\n",
    "    ciphertext = f.read()\n",
    "\n",
    "# Define a range of possible Unix timestamps (adjust as needed)\n",
    "start_time = int(time.time()) - 3600*69  # 1 hour ago\n",
    "end_time = int(time.time())  # current time\n",
    "\n",
    "# Try each seed (Unix timestamp) in the range\n",
    "for seed in range(start_time, end_time + 1):\n",
    "    random.seed(seed)\n",
    "    \n",
    "    # Regenerate the keystream\n",
    "    keystream = bytes([random.getrandbits(8) for _ in range(len(ciphertext))])\n",
    "    \n",
    "    # Decrypt the ciphertext\n",
    "    plaintext = bytes([c ^ k for c, k in zip(ciphertext, keystream)])\n",
    "    \n",
    "    # Check if the decrypted plaintext looks like a flag\n",
    "    if plaintext.decode(errors='ignore').startswith(target_flag_start):\n",
    "        print(f\"Flag found with seed {seed}: {plaintext.decode(errors='ignore')}\")\n",
    "        break\n",
    "else:\n",
    "    print(\"Flag not found in the given time range.\")\n"
   ]
  }
 ],
 "metadata": {
  "kernelspec": {
   "display_name": "3.12.3",
   "language": "python",
   "name": "python3"
  },
  "language_info": {
   "codemirror_mode": {
    "name": "ipython",
    "version": 3
   },
   "file_extension": ".py",
   "mimetype": "text/x-python",
   "name": "python",
   "nbconvert_exporter": "python",
   "pygments_lexer": "ipython3",
   "version": "3.12.3"
  }
 },
 "nbformat": 4,
 "nbformat_minor": 5
}
